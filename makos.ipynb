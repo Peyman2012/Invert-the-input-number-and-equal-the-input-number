{
 "cells": [
  {
   "cell_type": "code",
   "execution_count": 1,
   "metadata": {},
   "outputs": [
    {
     "name": "stdout",
     "output_type": "stream",
     "text": [
      "please enter your number: 1221\n",
      "1221\n",
      "1221\n",
      "Yes\n"
     ]
    }
   ],
   "source": [
    "num = input('please enter your number: ')\n",
    "rever = int(num[::-1])\n",
    "s=int(num)\n",
    "print(rever)\n",
    "r1=rever\n",
    "print(num)\n",
    "if (r1 == s):\n",
    "    print(\"Yes\")\n",
    "else:\n",
    "    print(\"No\")"
   ]
  }
 ],
 "metadata": {
  "kernelspec": {
   "display_name": "Python 3",
   "language": "python",
   "name": "python3"
  },
  "language_info": {
   "codemirror_mode": {
    "name": "ipython",
    "version": 3
   },
   "file_extension": ".py",
   "mimetype": "text/x-python",
   "name": "python",
   "nbconvert_exporter": "python",
   "pygments_lexer": "ipython3",
   "version": "3.6.13"
  }
 },
 "nbformat": 4,
 "nbformat_minor": 2
}
